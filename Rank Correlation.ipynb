{
 "cells": [
  {
   "cell_type": "code",
   "execution_count": 1,
   "metadata": {},
   "outputs": [],
   "source": [
    "from collections import defaultdict\n",
    "\n",
    "import matplotlib.pyplot as plt\n",
    "import numpy as np\n",
    "from scipy.stats import spearmanr\n",
    "from scipy.cluster import hierarchy\n",
    "from sklearn.metrics.pairwise import cosine_similarity\n",
    "\n",
    "from sklearn.datasets import load_breast_cancer\n",
    "from sklearn.naive_bayes import MultinomialNB, GaussianNB\n",
    "from sklearn.linear_model import LogisticRegression\n",
    "from sklearn.model_selection import train_test_split\n",
    "import shap\n",
    "from sklearn.preprocessing import StandardScaler\n",
    "from scipy.stats import norm\n",
    "\n",
    "import lime\n",
    "import lime.lime_tabular\n",
    "from sklearn.metrics import f1_score"
   ]
  },
  {
   "cell_type": "code",
   "execution_count": 2,
   "metadata": {},
   "outputs": [],
   "source": [
    "random_seed = 10"
   ]
  },
  {
   "cell_type": "code",
   "execution_count": 3,
   "metadata": {},
   "outputs": [],
   "source": [
    "np.random.seed(random_seed)"
   ]
  },
  {
   "cell_type": "code",
   "execution_count": 4,
   "metadata": {},
   "outputs": [],
   "source": [
    "data = load_breast_cancer()\n",
    "X, y = data.data, data.target\n",
    "X_train, X_test, y_train, y_test = train_test_split(X, y, random_state=random_seed)"
   ]
  },
  {
   "cell_type": "code",
   "execution_count": 5,
   "metadata": {},
   "outputs": [],
   "source": [
    "scaler = StandardScaler()\n",
    "X_train_transformed = scaler.fit_transform(X_train)\n",
    "X_test_transformed = scaler.transform(X_test)"
   ]
  },
  {
   "cell_type": "code",
   "execution_count": 7,
   "metadata": {},
   "outputs": [
    {
     "data": {
      "text/plain": [
       "GaussianNB(priors=None, var_smoothing=1e-09)"
      ]
     },
     "execution_count": 7,
     "metadata": {},
     "output_type": "execute_result"
    }
   ],
   "source": [
    "lreg = LogisticRegression(random_state=0)\n",
    "lreg.fit(X_train_transformed, y_train)\n",
    "\n",
    "nbayes_g = GaussianNB()\n",
    "nbayes_g.fit(X_train_transformed, y_train)"
   ]
  },
  {
   "cell_type": "code",
   "execution_count": 8,
   "metadata": {},
   "outputs": [
    {
     "name": "stdout",
     "output_type": "stream",
     "text": [
      "0.9666666666666667\n",
      "0.9613259668508287\n"
     ]
    }
   ],
   "source": [
    "pred_lreg = lreg.predict(X_test_transformed)\n",
    "print(f1_score(y_test, pred_lreg, average='binary'))\n",
    "\n",
    "pred_nbayes = nbayes_g.predict(X_test_transformed)\n",
    "print(f1_score(y_test, pred_nbayes, average='binary'))"
   ]
  },
  {
   "cell_type": "markdown",
   "metadata": {},
   "source": [
    "### LIME Explanations"
   ]
  },
  {
   "cell_type": "code",
   "execution_count": 9,
   "metadata": {},
   "outputs": [],
   "source": [
    "explainer = lime.lime_tabular.LimeTabularExplainer(X_train_transformed, feature_names=data.feature_names, class_names=data.target_names, verbose=False, mode='classification',discretize_continuous=False)"
   ]
  },
  {
   "cell_type": "code",
   "execution_count": 18,
   "metadata": {},
   "outputs": [],
   "source": [
    "explained_class = 1"
   ]
  },
  {
   "cell_type": "code",
   "execution_count": 11,
   "metadata": {},
   "outputs": [],
   "source": [
    "lime_exp_nbayes = []\n",
    "for i in range(X_train.shape[0]):\n",
    "    exp_nbayes = explainer.explain_instance(X_train_transformed[i], nbayes_g.predict_proba, num_features=30)\n",
    "    lime_exp_nbayes.append(exp_nbayes.as_list())"
   ]
  },
  {
   "cell_type": "code",
   "execution_count": 44,
   "metadata": {},
   "outputs": [],
   "source": [
    "#lime_exp_nbayes = np.array(lime_exp_nbayes)"
   ]
  },
  {
   "cell_type": "code",
   "execution_count": 12,
   "metadata": {},
   "outputs": [],
   "source": [
    "def transform_lime_exp(exps, features):\n",
    "    transform_exps = np.zeros((len(exps), len(features)))\n",
    "    for i in range(len(exps)):\n",
    "        for j in range(len(exps[i])):\n",
    "            idx = np.argwhere(exps[i][j][0] == features)[0][0]\n",
    "            transform_exps[i][idx] = exps[i][j][1]\n",
    "    return transform_exps"
   ]
  },
  {
   "cell_type": "code",
   "execution_count": 13,
   "metadata": {},
   "outputs": [],
   "source": [
    "transform_lime_bayes = transform_lime_exp(lime_exp_nbayes, data.feature_names)"
   ]
  },
  {
   "cell_type": "code",
   "execution_count": 15,
   "metadata": {},
   "outputs": [
    {
     "data": {
      "text/plain": [
       "array([-0.02809414, -0.01645086, -0.02445034, -0.0340933 ,  0.00024557,\n",
       "       -0.02001726, -0.02691532, -0.03055691, -0.01360946, -0.00421245,\n",
       "       -0.0224395 ,  0.00385139, -0.01928732, -0.0261138 ,  0.00352827,\n",
       "       -0.00345338, -0.00820703, -0.00528691, -0.0022683 , -0.00349995,\n",
       "       -0.03647874, -0.01537901, -0.0393242 , -0.03510332, -0.01741868,\n",
       "       -0.01839738, -0.02702567, -0.03570298, -0.00871805, -0.01059578])"
      ]
     },
     "execution_count": 15,
     "metadata": {},
     "output_type": "execute_result"
    }
   ],
   "source": [
    "transform_lime_bayes[0]"
   ]
  },
  {
   "cell_type": "code",
   "execution_count": 16,
   "metadata": {},
   "outputs": [
    {
     "data": {
      "text/html": [
       "[('worst perimeter', -0.03932419861476259), ('worst radius', -0.03647873886196608), ('worst concave points', -0.03570298342515406), ('worst area', -0.03510332485275771), ('mean area', -0.03409329598539847), ('mean concave points', -0.03055690965542587), ('mean radius', -0.028094141177373088), ('worst concavity', -0.027025670622543355), ('mean concavity', -0.02691531875297717), ('area error', -0.02611379739160905), ('mean perimeter', -0.02445033551045015), ('radius error', -0.02243950239027522), ('mean compactness', -0.020017262575145727), ('perimeter error', -0.019287316675502115), ('worst compactness', -0.01839738299406286), ('worst smoothness', -0.017418677243276875), ('mean texture', -0.01645085534450858), ('worst texture', -0.015379013898741911), ('mean symmetry', -0.013609457794638794), ('worst fractal dimension', -0.01059577617871379), ('worst symmetry', -0.0087180467849791), ('concavity error', -0.00820702893361097), ('concave points error', -0.005286909814304994), ('mean fractal dimension', -0.004212447007191074), ('texture error', 0.0038513870831672846), ('smoothness error', 0.0035282728551956056), ('fractal dimension error', -0.00349995460454107), ('compactness error', -0.0034533791389775264), ('symmetry error', -0.0022683046980380927), ('mean smoothness', 0.000245566108719135)]"
      ],
      "text/plain": [
       "[('worst perimeter', -0.03932419861476259),\n",
       " ('worst radius', -0.03647873886196608),\n",
       " ('worst concave points', -0.03570298342515406),\n",
       " ('worst area', -0.03510332485275771),\n",
       " ('mean area', -0.03409329598539847),\n",
       " ('mean concave points', -0.03055690965542587),\n",
       " ('mean radius', -0.028094141177373088),\n",
       " ('worst concavity', -0.027025670622543355),\n",
       " ('mean concavity', -0.02691531875297717),\n",
       " ('area error', -0.02611379739160905),\n",
       " ('mean perimeter', -0.02445033551045015),\n",
       " ('radius error', -0.02243950239027522),\n",
       " ('mean compactness', -0.020017262575145727),\n",
       " ('perimeter error', -0.019287316675502115),\n",
       " ('worst compactness', -0.01839738299406286),\n",
       " ('worst smoothness', -0.017418677243276875),\n",
       " ('mean texture', -0.01645085534450858),\n",
       " ('worst texture', -0.015379013898741911),\n",
       " ('mean symmetry', -0.013609457794638794),\n",
       " ('worst fractal dimension', -0.01059577617871379),\n",
       " ('worst symmetry', -0.0087180467849791),\n",
       " ('concavity error', -0.00820702893361097),\n",
       " ('concave points error', -0.005286909814304994),\n",
       " ('mean fractal dimension', -0.004212447007191074),\n",
       " ('texture error', 0.0038513870831672846),\n",
       " ('smoothness error', 0.0035282728551956056),\n",
       " ('fractal dimension error', -0.00349995460454107),\n",
       " ('compactness error', -0.0034533791389775264),\n",
       " ('symmetry error', -0.0022683046980380927),\n",
       " ('mean smoothness', 0.000245566108719135)]"
      ]
     },
     "execution_count": 16,
     "metadata": {},
     "output_type": "execute_result"
    }
   ],
   "source": [
    "lime_exp_nbayes[0]"
   ]
  },
  {
   "cell_type": "code",
   "execution_count": null,
   "metadata": {},
   "outputs": [],
   "source": []
  }
 ],
 "metadata": {
  "kernelspec": {
   "display_name": "Python (TF GPU)",
   "language": "python",
   "name": "tf-pt-gpu"
  },
  "language_info": {
   "codemirror_mode": {
    "name": "ipython",
    "version": 3
   },
   "file_extension": ".py",
   "mimetype": "text/x-python",
   "name": "python",
   "nbconvert_exporter": "python",
   "pygments_lexer": "ipython3",
   "version": "3.7.7"
  }
 },
 "nbformat": 4,
 "nbformat_minor": 2
}
