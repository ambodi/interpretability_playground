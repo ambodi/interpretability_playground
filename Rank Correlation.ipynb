{
 "cells": [
  {
   "cell_type": "code",
   "execution_count": 12,
   "metadata": {},
   "outputs": [],
   "source": [
    "from collections import defaultdict\n",
    "\n",
    "import matplotlib.pyplot as plt\n",
    "import numpy as np\n",
    "from scipy.stats import spearmanr\n",
    "from scipy.cluster import hierarchy\n",
    "from sklearn.metrics.pairwise import cosine_similarity\n",
    "\n",
    "from sklearn.datasets import load_breast_cancer\n",
    "from sklearn.naive_bayes import MultinomialNB, GaussianNB\n",
    "from sklearn.linear_model import LogisticRegression\n",
    "from sklearn.model_selection import train_test_split\n",
    "import shap\n",
    "from sklearn.preprocessing import StandardScaler\n",
    "from scipy.stats import norm\n",
    "\n",
    "import lime\n",
    "import lime.lime_tabular\n",
    "from sklearn.metrics import f1_score"
   ]
  },
  {
   "cell_type": "code",
   "execution_count": 2,
   "metadata": {},
   "outputs": [],
   "source": [
    "random_seed = 10"
   ]
  },
  {
   "cell_type": "code",
   "execution_count": 3,
   "metadata": {},
   "outputs": [],
   "source": [
    "np.random.seed(random_seed)"
   ]
  },
  {
   "cell_type": "code",
   "execution_count": 81,
   "metadata": {},
   "outputs": [],
   "source": [
    "data = load_breast_cancer()\n",
    "X, y = data.data, data.target\n",
    "X_train, X_test, y_train, y_test = train_test_split(X, y, random_state=random_seed)"
   ]
  },
  {
   "cell_type": "code",
   "execution_count": 5,
   "metadata": {},
   "outputs": [],
   "source": [
    "scaler = StandardScaler()\n",
    "X_train_transformed = scaler.fit_transform(X_train)\n",
    "X_test_transformed = scaler.transform(X_test)"
   ]
  },
  {
   "cell_type": "code",
   "execution_count": 82,
   "metadata": {},
   "outputs": [
    {
     "name": "stderr",
     "output_type": "stream",
     "text": [
      "lbfgs failed to converge (status=1):\n",
      "STOP: TOTAL NO. of ITERATIONS REACHED LIMIT.\n",
      "\n",
      "Increase the number of iterations (max_iter) or scale the data as shown in:\n",
      "    https://scikit-learn.org/stable/modules/preprocessing.html\n",
      "Please also refer to the documentation for alternative solver options:\n",
      "    https://scikit-learn.org/stable/modules/linear_model.html#logistic-regression\n"
     ]
    },
    {
     "data": {
      "text/plain": [
       "GaussianNB(priors=None, var_smoothing=1e-09)"
      ]
     },
     "execution_count": 82,
     "metadata": {},
     "output_type": "execute_result"
    }
   ],
   "source": [
    "lreg = LogisticRegression(random_state=0)\n",
    "lreg.fit(X_train, y_train)\n",
    "\n",
    "nbayes_g = GaussianNB()\n",
    "nbayes_g.fit(X_train, y_train)"
   ]
  },
  {
   "cell_type": "code",
   "execution_count": 83,
   "metadata": {},
   "outputs": [
    {
     "name": "stdout",
     "output_type": "stream",
     "text": [
      "0.5542168674698795\n",
      "0.02173913043478261\n"
     ]
    }
   ],
   "source": [
    "pred_lreg = lreg.predict(X_test_transformed)\n",
    "print(f1_score(y_test, pred_lreg, average='binary'))\n",
    "\n",
    "pred_nbayes = nbayes_g.predict(X_test_transformed)\n",
    "print(f1_score(y_test, pred_nbayes, average='binary'))"
   ]
  },
  {
   "cell_type": "markdown",
   "metadata": {},
   "source": [
    "### LIME Explanations"
   ]
  },
  {
   "cell_type": "code",
   "execution_count": 10,
   "metadata": {},
   "outputs": [],
   "source": [
    "explainer = lime.lime_tabular.LimeTabularExplainer(X_train, feature_names=data.feature_names, class_names=data.target_names, verbose=False, mode='classification',discretize_continuous=False)"
   ]
  },
  {
   "cell_type": "code",
   "execution_count": 18,
   "metadata": {},
   "outputs": [],
   "source": [
    "explained_class = 1"
   ]
  },
  {
   "cell_type": "code",
   "execution_count": 79,
   "metadata": {},
   "outputs": [],
   "source": [
    "lime_exp_nbayes = []\n",
    "for i in range(X_train.shape[0]):\n",
    "    exp_nbayes = explainer.explain_instance(X_train[i], nbayes.predict_proba, num_features=30)\n",
    "    lime_exp_nbayes.append(exp_nbayes.as_list())"
   ]
  },
  {
   "cell_type": "code",
   "execution_count": 80,
   "metadata": {},
   "outputs": [
    {
     "data": {
      "text/html": [
       "[('worst area', -0.3824415494633563), ('area error', -0.10666885793585361), ('mean area', 0.06874552450128696), ('worst perimeter', 0.050870180633143636), ('mean perimeter', 0.04060582037565526), ('worst texture', 0.016314343139973483), ('worst radius', 0.012016305470286606), ('mean texture', 0.01161256298572926), ('mean radius', 0.010640475269052251), ('worst concavity', 0.009687102568035547), ('mean concavity', 0.00821545610230401), ('mean symmetry', 0.006858295170994761), ('worst fractal dimension', -0.006694978955510569), ('smoothness error', 0.0054844191522322545), ('compactness error', -0.005187128674030104), ('worst concave points', -0.005075118189509526), ('mean concave points', -0.004696983870078934), ('perimeter error', 0.00449362563696409), ('mean smoothness', -0.004432306278461145), ('worst compactness', 0.003803861322427776), ('concavity error', -0.0030218906775774457), ('radius error', -0.0024858335924041065), ('fractal dimension error', -0.0014711492037498225), ('concave points error', 0.0014295286857398894), ('mean compactness', 0.001273116410230217), ('symmetry error', -0.0008122658129719611), ('texture error', 0.0007648112578328007), ('worst smoothness', 0.0006034697674587832), ('mean fractal dimension', 0.00042815882608581937), ('worst symmetry', 2.6595662100811225e-05)]"
      ],
      "text/plain": [
       "[('worst area', -0.3824415494633563),\n",
       " ('area error', -0.10666885793585361),\n",
       " ('mean area', 0.06874552450128696),\n",
       " ('worst perimeter', 0.050870180633143636),\n",
       " ('mean perimeter', 0.04060582037565526),\n",
       " ('worst texture', 0.016314343139973483),\n",
       " ('worst radius', 0.012016305470286606),\n",
       " ('mean texture', 0.01161256298572926),\n",
       " ('mean radius', 0.010640475269052251),\n",
       " ('worst concavity', 0.009687102568035547),\n",
       " ('mean concavity', 0.00821545610230401),\n",
       " ('mean symmetry', 0.006858295170994761),\n",
       " ('worst fractal dimension', -0.006694978955510569),\n",
       " ('smoothness error', 0.0054844191522322545),\n",
       " ('compactness error', -0.005187128674030104),\n",
       " ('worst concave points', -0.005075118189509526),\n",
       " ('mean concave points', -0.004696983870078934),\n",
       " ('perimeter error', 0.00449362563696409),\n",
       " ('mean smoothness', -0.004432306278461145),\n",
       " ('worst compactness', 0.003803861322427776),\n",
       " ('concavity error', -0.0030218906775774457),\n",
       " ('radius error', -0.0024858335924041065),\n",
       " ('fractal dimension error', -0.0014711492037498225),\n",
       " ('concave points error', 0.0014295286857398894),\n",
       " ('mean compactness', 0.001273116410230217),\n",
       " ('symmetry error', -0.0008122658129719611),\n",
       " ('texture error', 0.0007648112578328007),\n",
       " ('worst smoothness', 0.0006034697674587832),\n",
       " ('mean fractal dimension', 0.00042815882608581937),\n",
       " ('worst symmetry', 2.6595662100811225e-05)]"
      ]
     },
     "execution_count": 80,
     "metadata": {},
     "output_type": "execute_result"
    }
   ],
   "source": [
    "lime_exp_nbayes[4]"
   ]
  },
  {
   "cell_type": "code",
   "execution_count": 44,
   "metadata": {},
   "outputs": [],
   "source": [
    "#lime_exp_nbayes = np.array(lime_exp_nbayes)"
   ]
  },
  {
   "cell_type": "code",
   "execution_count": 61,
   "metadata": {},
   "outputs": [
    {
     "data": {
      "text/plain": [
       "array([0])"
      ]
     },
     "execution_count": 61,
     "metadata": {},
     "output_type": "execute_result"
    }
   ],
   "source": [
    "np.argwhere(lime_exp_nbayes[0][0][0] == data.feature_names)[0]"
   ]
  },
  {
   "cell_type": "code",
   "execution_count": 68,
   "metadata": {},
   "outputs": [],
   "source": [
    "def transform_lime_exp(exps, features):\n",
    "    transform_exps = np.zeros((len(exps), len(features)))\n",
    "    for i in range(len(exps)):\n",
    "        for j in range(len(exps[i])):\n",
    "            idx = np.argwhere(exps[i][j][0] == features)[0][0]\n",
    "            transform_exps[i][idx] = exps[i][j][1]\n",
    "    return transform_exps"
   ]
  },
  {
   "cell_type": "code",
   "execution_count": 69,
   "metadata": {},
   "outputs": [],
   "source": [
    "transform_lime_bayes = transform_lime_exp(lime_exp_nbayes, data.feature_names)"
   ]
  },
  {
   "cell_type": "code",
   "execution_count": 72,
   "metadata": {},
   "outputs": [
    {
     "data": {
      "text/plain": [
       "array([0., 0., 0., 0., 0., 0., 0., 0., 0., 0., 0., 0., 0., 0., 0., 0., 0.,\n",
       "       0., 0., 0., 0., 0., 0., 0., 0., 0., 0., 0., 0., 0.])"
      ]
     },
     "execution_count": 72,
     "metadata": {},
     "output_type": "execute_result"
    }
   ],
   "source": [
    "transform_lime_bayes[1]"
   ]
  },
  {
   "cell_type": "code",
   "execution_count": 73,
   "metadata": {},
   "outputs": [
    {
     "data": {
      "text/html": [
       "[('mean radius', 0.0), ('mean texture', 0.0), ('mean perimeter', 0.0), ('mean area', 0.0), ('mean smoothness', 0.0), ('mean compactness', 0.0), ('mean concavity', 0.0), ('mean concave points', 0.0), ('mean symmetry', 0.0), ('mean fractal dimension', 0.0), ('radius error', 0.0), ('texture error', 0.0), ('perimeter error', 0.0), ('area error', 0.0), ('smoothness error', 0.0), ('compactness error', 0.0), ('concavity error', 0.0), ('concave points error', 0.0), ('symmetry error', 0.0), ('fractal dimension error', 0.0), ('worst radius', 0.0), ('worst texture', 0.0), ('worst perimeter', 0.0), ('worst area', 0.0), ('worst smoothness', 0.0), ('worst compactness', 0.0), ('worst concavity', 0.0), ('worst concave points', 0.0), ('worst symmetry', 0.0), ('worst fractal dimension', 0.0)]"
      ],
      "text/plain": [
       "[('mean radius', 0.0),\n",
       " ('mean texture', 0.0),\n",
       " ('mean perimeter', 0.0),\n",
       " ('mean area', 0.0),\n",
       " ('mean smoothness', 0.0),\n",
       " ('mean compactness', 0.0),\n",
       " ('mean concavity', 0.0),\n",
       " ('mean concave points', 0.0),\n",
       " ('mean symmetry', 0.0),\n",
       " ('mean fractal dimension', 0.0),\n",
       " ('radius error', 0.0),\n",
       " ('texture error', 0.0),\n",
       " ('perimeter error', 0.0),\n",
       " ('area error', 0.0),\n",
       " ('smoothness error', 0.0),\n",
       " ('compactness error', 0.0),\n",
       " ('concavity error', 0.0),\n",
       " ('concave points error', 0.0),\n",
       " ('symmetry error', 0.0),\n",
       " ('fractal dimension error', 0.0),\n",
       " ('worst radius', 0.0),\n",
       " ('worst texture', 0.0),\n",
       " ('worst perimeter', 0.0),\n",
       " ('worst area', 0.0),\n",
       " ('worst smoothness', 0.0),\n",
       " ('worst compactness', 0.0),\n",
       " ('worst concavity', 0.0),\n",
       " ('worst concave points', 0.0),\n",
       " ('worst symmetry', 0.0),\n",
       " ('worst fractal dimension', 0.0)]"
      ]
     },
     "execution_count": 73,
     "metadata": {},
     "output_type": "execute_result"
    }
   ],
   "source": [
    "lime_exp_nbayes[1]"
   ]
  },
  {
   "cell_type": "code",
   "execution_count": null,
   "metadata": {},
   "outputs": [],
   "source": []
  }
 ],
 "metadata": {
  "kernelspec": {
   "display_name": "Python (TF GPU)",
   "language": "python",
   "name": "tf-pt-gpu"
  },
  "language_info": {
   "codemirror_mode": {
    "name": "ipython",
    "version": 3
   },
   "file_extension": ".py",
   "mimetype": "text/x-python",
   "name": "python",
   "nbconvert_exporter": "python",
   "pygments_lexer": "ipython3",
   "version": "3.7.7"
  }
 },
 "nbformat": 4,
 "nbformat_minor": 2
}
