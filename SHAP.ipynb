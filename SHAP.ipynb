{
 "cells": [
  {
   "cell_type": "code",
   "execution_count": 22,
   "metadata": {},
   "outputs": [],
   "source": [
    "import numpy as np"
   ]
  },
  {
   "cell_type": "code",
   "execution_count": 30,
   "metadata": {},
   "outputs": [],
   "source": [
    "np.random.seed(101)"
   ]
  },
  {
   "cell_type": "code",
   "execution_count": 65,
   "metadata": {},
   "outputs": [],
   "source": [
    "N = 100\n",
    "x = np.zeros((N, 10))\n",
    "\n",
    "mu = 0\n",
    "sigma = 0.5\n",
    "weights = sigma * np.random.randn(10) + mu\n",
    "\n",
    "for j in range(0, 10):\n",
    "    x[:, j] =  np.random.rand(100)"
   ]
  },
  {
   "cell_type": "code",
   "execution_count": 66,
   "metadata": {},
   "outputs": [],
   "source": [
    "def f(X):\n",
    "    return np.dot(X, weights) + 10"
   ]
  },
  {
   "cell_type": "markdown",
   "metadata": {},
   "source": [
    "We would like to see the effect of feature 3"
   ]
  },
  {
   "cell_type": "code",
   "execution_count": 238,
   "metadata": {},
   "outputs": [
    {
     "name": "stdout",
     "output_type": "stream",
     "text": [
      "[0.61209572 0.57432525 0.37416998 0.25942256 0.55468781 0.57714024\n",
      " 0.11732048 0.27734027 0.91486309 0.29818736] 10.91431026327857\n"
     ]
    }
   ],
   "source": [
    "total_samples = 100\n",
    "phi = np.zeros(weights.shape[0])\n",
    "feature_explained = 4\n",
    "instance_explained_idx = 10\n",
    "instance_explained = x[instance_explained_idx]\n",
    "w = x[np.random.randint(N)]\n",
    "print(instance_explained, f(instance_explained))"
   ]
  },
  {
   "cell_type": "code",
   "execution_count": 240,
   "metadata": {},
   "outputs": [],
   "source": [
    "for _ in range(total_samples):\n",
    "    perm = np.random.permutation(10)\n",
    "    feature_explained_pos = np.where(perm == feature_explained)[0][0]\n",
    "    b1 = np.concatenate((instance_explained[:feature_explained_pos], w[feature_explained_pos :])).flatten()\n",
    "    b2 = np.concatenate((instance_explained[:feature_explained_pos - 1], w[feature_explained_pos -1 :])).flatten()\n",
    "    phi[feature_explained] += f(b2) - f(b1)\n",
    "phi[feature_explained] = phi[feature_explained] / total_samples"
   ]
  },
  {
   "cell_type": "code",
   "execution_count": 241,
   "metadata": {},
   "outputs": [
    {
     "data": {
      "text/plain": [
       "0.007116170270227204"
      ]
     },
     "execution_count": 241,
     "metadata": {},
     "output_type": "execute_result"
    }
   ],
   "source": [
    "phi[feature_explained]"
   ]
  },
  {
   "cell_type": "code",
   "execution_count": 242,
   "metadata": {},
   "outputs": [
    {
     "data": {
      "text/plain": [
       "0.22193161637271283"
      ]
     },
     "execution_count": 242,
     "metadata": {},
     "output_type": "execute_result"
    }
   ],
   "source": [
    "weights[feature_explained]"
   ]
  },
  {
   "cell_type": "code",
   "execution_count": 246,
   "metadata": {},
   "outputs": [],
   "source": [
    "m_min = 100\n",
    "m_max = x.shape[1] * m_min + x.shape[0] * 10"
   ]
  },
  {
   "cell_type": "code",
   "execution_count": 247,
   "metadata": {},
   "outputs": [
    {
     "data": {
      "text/plain": [
       "2000"
      ]
     },
     "execution_count": 247,
     "metadata": {},
     "output_type": "execute_result"
    }
   ],
   "source": [
    "m_max"
   ]
  },
  {
   "cell_type": "code",
   "execution_count": null,
   "metadata": {},
   "outputs": [],
   "source": []
  }
 ],
 "metadata": {
  "kernelspec": {
   "display_name": "Python (TF GPU)",
   "language": "python",
   "name": "tf-pt-gpu"
  },
  "language_info": {
   "codemirror_mode": {
    "name": "ipython",
    "version": 3
   },
   "file_extension": ".py",
   "mimetype": "text/x-python",
   "name": "python",
   "nbconvert_exporter": "python",
   "pygments_lexer": "ipython3",
   "version": "3.7.7"
  }
 },
 "nbformat": 4,
 "nbformat_minor": 2
}
