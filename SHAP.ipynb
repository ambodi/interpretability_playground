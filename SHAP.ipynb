{
 "cells": [
  {
   "cell_type": "code",
   "execution_count": 1,
   "metadata": {},
   "outputs": [],
   "source": [
    "import numpy as np\n",
    "import scipy.special\n",
    "import numpy as np\n",
    "import itertools"
   ]
  },
  {
   "cell_type": "code",
   "execution_count": 2,
   "metadata": {},
   "outputs": [],
   "source": [
    "np.random.seed(101)"
   ]
  },
  {
   "cell_type": "code",
   "execution_count": 3,
   "metadata": {},
   "outputs": [],
   "source": [
    "N = 100\n",
    "x = np.zeros((N, 10))\n",
    "\n",
    "mu = 0\n",
    "sigma = 0.5\n",
    "weights = sigma * np.random.randn(10) + mu\n",
    "\n",
    "for j in range(0, 10):\n",
    "    x[:, j] =  np.random.rand(100)"
   ]
  },
  {
   "cell_type": "code",
   "execution_count": 92,
   "metadata": {},
   "outputs": [],
   "source": [
    "m_min = 5000\n",
    "m_max = x.shape[1] * m_min + x.shape[0] * 10\n",
    "n = x.shape[1]"
   ]
  },
  {
   "cell_type": "code",
   "execution_count": 6,
   "metadata": {},
   "outputs": [],
   "source": [
    "def f(X):\n",
    "    return np.dot(X, weights) + 10"
   ]
  },
  {
   "cell_type": "markdown",
   "metadata": {},
   "source": [
    "We would like to see the effect of feature 3"
   ]
  },
  {
   "cell_type": "code",
   "execution_count": 80,
   "metadata": {},
   "outputs": [
    {
     "name": "stdout",
     "output_type": "stream",
     "text": [
      "[0.7015073  0.71085279 0.79315227 0.43061039 0.88334184 0.21324185\n",
      " 0.82244529 0.44761512 0.05476228 0.10747345] 11.666164750702935\n"
     ]
    }
   ],
   "source": [
    "phi = np.zeros(weights.shape[0])\n",
    "feature_explained = 4\n",
    "instance_explained_idx = 30\n",
    "instance_explained = x[instance_explained_idx]\n",
    "\n",
    "print(instance_explained, f(instance_explained))"
   ]
  },
  {
   "cell_type": "code",
   "execution_count": 81,
   "metadata": {},
   "outputs": [],
   "source": [
    "b_instance_explained = np.where(instance_explained > 0, 1, 0)"
   ]
  },
  {
   "cell_type": "markdown",
   "metadata": {},
   "source": [
    "```python\n",
    "for _ in range(total_samples):\n",
    "    perm = np.random.permutation(10)\n",
    "    feature_explained_pos = np.where(perm == feature_explained)[0][0]\n",
    "    b1 = np.concatenate((instance_explained[:feature_explained_pos], w[feature_explained_pos :])).flatten()\n",
    "    b2 = np.concatenate((instance_explained[:feature_explained_pos - 1], w[feature_explained_pos -1 :])).flatten()\n",
    "    phi[feature_explained] += f(b2) - f(b1)\n",
    "phi[feature_explained] = phi[feature_explained] / total_samples\n",
    "```"
   ]
  },
  {
   "cell_type": "code",
   "execution_count": 93,
   "metadata": {},
   "outputs": [],
   "source": [
    "def get_phi(feature_explained, explicand): \n",
    "    perm = np.random.permutation(n)\n",
    "    w = x[np.random.randint(N)]\n",
    "    feature_explained_pos = np.where(perm == feature_explained)[0][0]\n",
    "    b1 = np.concatenate((explicand[perm[:feature_explained_pos]], w[perm[feature_explained_pos:]])).flatten()\n",
    "    b2 = np.concatenate((explicand[perm[:feature_explained_pos - 1]], w[perm[feature_explained_pos - 1:]])).flatten()\n",
    "    \n",
    "    return f(b2) - f(b1)"
   ]
  },
  {
   "cell_type": "code",
   "execution_count": 94,
   "metadata": {},
   "outputs": [],
   "source": [
    "phi = np.zeros((n, m_min))\n",
    "for i in range(n):\n",
    "    for j in range(m_min):\n",
    "        phi[i, j] =  get_phi(i, instance_explained)"
   ]
  },
  {
   "cell_type": "code",
   "execution_count": 95,
   "metadata": {},
   "outputs": [],
   "source": [
    "def powerset(iterable):\n",
    "    s = list(iterable)\n",
    "    return itertools.chain.from_iterable(itertools.combinations(s, r) for r in range(len(s)+1))\n",
    "\n",
    "def shapley_kernel(M,s):\n",
    "    if s == 0 or s == M:\n",
    "        return 10000\n",
    "    return (M-1)/(scipy.special.binom(M,s)*s*(M-s))"
   ]
  },
  {
   "cell_type": "code",
   "execution_count": 96,
   "metadata": {},
   "outputs": [],
   "source": [
    "def kernel_shap(f, x, reference, M):\n",
    "    X = np.zeros((2**M,M+1))\n",
    "    X[:,-1] = 1\n",
    "    weights = np.zeros(2**M)\n",
    "    V = np.zeros((2**M,M))\n",
    "    for i in range(2**M):\n",
    "        V[i,:] = reference\n",
    "\n",
    "    ws = {}\n",
    "    for i,s in enumerate(powerset(range(M))):\n",
    "        s = list(s)\n",
    "        V[i,s] = x[s]\n",
    "        X[i,s] = 1\n",
    "        ws[len(s)] = ws.get(len(s), 0) + shapley_kernel(M,len(s))\n",
    "        weights[i] = shapley_kernel(M,len(s))\n",
    "    y = f(V)\n",
    "    tmp = np.linalg.inv(np.dot(np.dot(X.T, np.diag(weights)), X))\n",
    "    return np.dot(tmp, np.dot(np.dot(X.T, np.diag(weights)), y))"
   ]
  },
  {
   "cell_type": "code",
   "execution_count": 97,
   "metadata": {},
   "outputs": [],
   "source": [
    "reference = np.zeros(n)\n",
    "phi_kshap = kernel_shap(f, instance_explained, reference, n)\n",
    "base_value = phi_kshap[-1]\n",
    "shap_values_kshap = phi_kshap[:-1]"
   ]
  },
  {
   "cell_type": "code",
   "execution_count": 98,
   "metadata": {},
   "outputs": [
    {
     "name": "stdout",
     "output_type": "stream",
     "text": [
      "Feature 0, SHAP: 0.022603058790727146, KSHAP: 0.949437455736188, Weight: 1.353424919699969\n",
      "Feature 1, SHAP: 0.018577364391551277, KSHAP: 0.22325494395045098, Weight: 0.3140663543922298\n",
      "Feature 2, SHAP: 0.04911035671633056, KSHAP: 0.3600790119562589, Weight: 0.45398472323827155\n",
      "Feature 3, SHAP: -0.015650773673936743, KSHAP: 0.10847630101488903, Weight: 0.2519128769111968\n",
      "Feature 4, SHAP: 0.051381399291992286, KSHAP: 0.2875798640270659, Weight: 0.3255589739716343\n",
      "Feature 5, SHAP: -0.03769589200084727, KSHAP: -0.03404598466295283, Weight: -0.15965902229651663\n",
      "Feature 6, SHAP: 0.044308110633860115, KSHAP: -0.34874845865851967, Weight: -0.42403849170181573\n",
      "Feature 7, SHAP: -0.012064676783584975, KSHAP: 0.13561962688254425, Weight: 0.3029826747474668\n",
      "Feature 8, SHAP: -0.06101241824670022, KSHAP: -0.05525974347256124, Weight: -1.009084122018696\n",
      "Feature 9, SHAP: -0.05929550561052307, KSHAP: 0.03977173396560829, Weight: 0.3700610285280534\n"
     ]
    }
   ],
   "source": [
    "for i in range(n):\n",
    "    print('Feature {}, SHAP: {}, KSHAP: {}, Weight: {}'.format(i, np.mean(phi[i]), shap_values_kshap[i], weights[i]))"
   ]
  },
  {
   "cell_type": "code",
   "execution_count": 99,
   "metadata": {},
   "outputs": [
    {
     "data": {
      "text/plain": [
       "(4.855711764769606, 2.542273124327039)"
      ]
     },
     "execution_count": 99,
     "metadata": {},
     "output_type": "execute_result"
    }
   ],
   "source": [
    "np.abs(np.mean(phi, axis=1) - weights).sum(), np.abs(shap_values_kshap, - weights).sum()"
   ]
  },
  {
   "cell_type": "code",
   "execution_count": null,
   "metadata": {},
   "outputs": [],
   "source": []
  }
 ],
 "metadata": {
  "kernelspec": {
   "display_name": "Python (DL)",
   "language": "python",
   "name": "dl"
  },
  "language_info": {
   "codemirror_mode": {
    "name": "ipython",
    "version": 3
   },
   "file_extension": ".py",
   "mimetype": "text/x-python",
   "name": "python",
   "nbconvert_exporter": "python",
   "pygments_lexer": "ipython3",
   "version": "3.6.8"
  }
 },
 "nbformat": 4,
 "nbformat_minor": 4
}
