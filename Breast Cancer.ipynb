{
 "cells": [
  {
   "cell_type": "code",
   "execution_count": 83,
   "metadata": {},
   "outputs": [],
   "source": [
    "from collections import defaultdict\n",
    "\n",
    "import matplotlib.pyplot as plt\n",
    "import numpy as np\n",
    "from scipy.stats import spearmanr\n",
    "from scipy.cluster import hierarchy\n",
    "from sklearn.metrics.pairwise import cosine_similarity\n",
    "\n",
    "from sklearn.datasets import load_breast_cancer\n",
    "from sklearn.naive_bayes import MultinomialNB, GaussianNB\n",
    "from sklearn.linear_model import LogisticRegression\n",
    "from sklearn.model_selection import train_test_split\n",
    "import shap"
   ]
  },
  {
   "cell_type": "code",
   "execution_count": 2,
   "metadata": {},
   "outputs": [],
   "source": [
    "np.random.seed(0)"
   ]
  },
  {
   "cell_type": "code",
   "execution_count": 85,
   "metadata": {},
   "outputs": [],
   "source": [
    "from scipy.stats import norm"
   ]
  },
  {
   "cell_type": "code",
   "execution_count": 111,
   "metadata": {},
   "outputs": [
    {
     "data": {
      "text/plain": [
       "0.033303773577131685"
      ]
     },
     "execution_count": 111,
     "metadata": {},
     "output_type": "execute_result"
    }
   ],
   "source": [
    "norm(nbayes_g.theta_[0][0], nbayes_g.sigma_[0][0]).pdf(X_train[0][0])"
   ]
  },
  {
   "cell_type": "code",
   "execution_count": 91,
   "metadata": {},
   "outputs": [
    {
     "data": {
      "text/plain": [
       "12.89"
      ]
     },
     "execution_count": 91,
     "metadata": {},
     "output_type": "execute_result"
    }
   ],
   "source": [
    "X_train[0][0]"
   ]
  },
  {
   "cell_type": "code",
   "execution_count": 108,
   "metadata": {},
   "outputs": [
    {
     "data": {
      "text/plain": [
       "0.033303773577131685"
      ]
     },
     "execution_count": 108,
     "metadata": {},
     "output_type": "execute_result"
    }
   ],
   "source": [
    "norm_cdf.pdf(X_train[0][0])"
   ]
  },
  {
   "cell_type": "code",
   "execution_count": 106,
   "metadata": {},
   "outputs": [
    {
     "data": {
      "text/plain": [
       "(12.89, 0.0, 4254.0)"
      ]
     },
     "execution_count": 106,
     "metadata": {},
     "output_type": "execute_result"
    }
   ],
   "source": [
    "X_train[0][0], np.min(X_train), np.max(X_train)"
   ]
  },
  {
   "cell_type": "code",
   "execution_count": 59,
   "metadata": {},
   "outputs": [],
   "source": [
    "data = load_breast_cancer()\n",
    "X, y = data.data, data.target\n",
    "X_train, X_test, y_train, y_test = train_test_split(X, y, random_state=42)"
   ]
  },
  {
   "cell_type": "code",
   "execution_count": 84,
   "metadata": {},
   "outputs": [
    {
     "name": "stderr",
     "output_type": "stream",
     "text": [
      "lbfgs failed to converge. Increase the number of iterations.\n"
     ]
    },
    {
     "data": {
      "text/plain": [
       "GaussianNB(priors=None, var_smoothing=1e-09)"
      ]
     },
     "execution_count": 84,
     "metadata": {},
     "output_type": "execute_result"
    }
   ],
   "source": [
    "lreg = LogisticRegression(random_state=0, solver='lbfgs')\n",
    "lreg.fit(X_train, y_train)\n",
    "\n",
    "nbayes = MultinomialNB()\n",
    "nbayes.fit(X_train, y_train)\n",
    "\n",
    "nbayes_g = GaussianNB()\n",
    "nbayes_g.fit(X_train, y_train)"
   ]
  },
  {
   "cell_type": "code",
   "execution_count": 88,
   "metadata": {},
   "outputs": [
    {
     "data": {
      "text/plain": [
       "(11.01373448940865, 17.404367088607597)"
      ]
     },
     "execution_count": 88,
     "metadata": {},
     "output_type": "execute_result"
    }
   ],
   "source": [
    "nbayes_g.sigma_[0][0], nbayes_g.theta_[0][0]"
   ]
  },
  {
   "cell_type": "code",
   "execution_count": 74,
   "metadata": {},
   "outputs": [
    {
     "data": {
      "text/plain": [
       "array([1.289e+01, 1.312e+01, 8.189e+01, 5.159e+02, 6.955e-02, 3.729e-02,\n",
       "       2.260e-02, 1.171e-02, 1.337e-01, 5.581e-02, 1.532e-01, 4.690e-01,\n",
       "       1.115e+00, 1.268e+01, 4.731e-03, 1.345e-02, 1.652e-02, 5.905e-03,\n",
       "       1.619e-02, 2.081e-03, 1.362e+01, 1.554e+01, 8.740e+01, 5.770e+02,\n",
       "       9.616e-02, 1.147e-01, 1.186e-01, 5.366e-02, 2.309e-01, 6.915e-02])"
      ]
     },
     "execution_count": 74,
     "metadata": {},
     "output_type": "execute_result"
    }
   ],
   "source": [
    "nbayes_g"
   ]
  },
  {
   "cell_type": "code",
   "execution_count": 61,
   "metadata": {},
   "outputs": [
    {
     "data": {
      "text/plain": [
       "array([[ 1.13435884,  0.44771515,  0.0949699 , -0.00667398, -0.04283018,\n",
       "        -0.20671275, -0.28571032, -0.12240655, -0.06420181, -0.01340693,\n",
       "         0.03717749,  0.51805775,  0.07402897, -0.10653236, -0.00393868,\n",
       "        -0.04374818, -0.05893878, -0.01572675, -0.01501066, -0.00415301,\n",
       "         1.18288667, -0.54554121, -0.12371511, -0.02183428, -0.077576  ,\n",
       "        -0.62476204, -0.76825412, -0.22638869, -0.20660081, -0.05913606]])"
      ]
     },
     "execution_count": 61,
     "metadata": {},
     "output_type": "execute_result"
    }
   ],
   "source": [
    "lreg.coef_"
   ]
  },
  {
   "cell_type": "code",
   "execution_count": 62,
   "metadata": {},
   "outputs": [
    {
     "data": {
      "text/plain": [
       "array([1.289e+01, 1.312e+01, 8.189e+01, 5.159e+02, 6.955e-02, 3.729e-02,\n",
       "       2.260e-02, 1.171e-02, 1.337e-01, 5.581e-02, 1.532e-01, 4.690e-01,\n",
       "       1.115e+00, 1.268e+01, 4.731e-03, 1.345e-02, 1.652e-02, 5.905e-03,\n",
       "       1.619e-02, 2.081e-03, 1.362e+01, 1.554e+01, 8.740e+01, 5.770e+02,\n",
       "       9.616e-02, 1.147e-01, 1.186e-01, 5.366e-02, 2.309e-01, 6.915e-02])"
      ]
     },
     "execution_count": 62,
     "metadata": {},
     "output_type": "execute_result"
    }
   ],
   "source": [
    "X_train[0]"
   ]
  },
  {
   "cell_type": "code",
   "execution_count": 63,
   "metadata": {},
   "outputs": [
    {
     "data": {
      "text/plain": [
       "array([[3.41628887e-04, 9.99658371e-01]])"
      ]
     },
     "execution_count": 63,
     "metadata": {},
     "output_type": "execute_result"
    }
   ],
   "source": [
    "lreg.predict_proba(X_train[0].reshape(1, -1))"
   ]
  },
  {
   "cell_type": "code",
   "execution_count": 71,
   "metadata": {},
   "outputs": [
    {
     "data": {
      "text/plain": [
       "array(['worst area', 'worst perimeter', 'worst texture', 'mean area',\n",
       "       'area error', 'worst concavity', 'worst compactness',\n",
       "       'worst symmetry', 'worst concave points', 'mean symmetry',\n",
       "       'mean compactness', 'worst smoothness', 'mean concavity',\n",
       "       'worst fractal dimension', 'mean smoothness',\n",
       "       'mean concave points', 'concavity error', 'mean fractal dimension',\n",
       "       'compactness error', 'symmetry error', 'concave points error',\n",
       "       'smoothness error', 'fractal dimension error', 'radius error',\n",
       "       'perimeter error', 'texture error', 'mean texture',\n",
       "       'mean perimeter', 'mean radius', 'worst radius'], dtype='<U23')"
      ]
     },
     "execution_count": 71,
     "metadata": {},
     "output_type": "execute_result"
    }
   ],
   "source": [
    "data.feature_names[np.argsort(X_train[0]* lreg.coef_[0])]"
   ]
  },
  {
   "cell_type": "code",
   "execution_count": 72,
   "metadata": {},
   "outputs": [
    {
     "data": {
      "text/plain": [
       "array(['worst area', 'worst texture', 'worst perimeter', 'mean area',\n",
       "       'area error', 'worst concavity', 'worst compactness',\n",
       "       'worst symmetry', 'worst concave points', 'mean concavity',\n",
       "       'mean compactness', 'mean symmetry', 'worst smoothness',\n",
       "       'mean concave points', 'worst fractal dimension',\n",
       "       'mean smoothness', 'concavity error', 'compactness error',\n",
       "       'mean fractal dimension', 'symmetry error', 'concave points error',\n",
       "       'smoothness error', 'fractal dimension error', 'radius error',\n",
       "       'perimeter error', 'texture error', 'mean perimeter',\n",
       "       'mean texture', 'mean radius', 'worst radius'], dtype='<U23')"
      ]
     },
     "execution_count": 72,
     "metadata": {},
     "output_type": "execute_result"
    }
   ],
   "source": [
    "data.feature_names[np.argsort(X_train[1]* lreg.coef_[0])]"
   ]
  },
  {
   "cell_type": "code",
   "execution_count": 5,
   "metadata": {},
   "outputs": [],
   "source": [
    "import copy\n",
    "\n",
    "def predict_replacement(explicand, x_train, selected_features, model, explained_class):\n",
    "    result = 0\n",
    "    for j in selected_features:\n",
    "        explicand_copy = copy.copy(explicand)\n",
    "        explicand_f_val = explicand_copy[:, j][0]\n",
    "        feature_values = x_train[:, j].flatten()\n",
    "        bin_count, bin_edge = np.histogram(feature_values, bins=4)\n",
    "\n",
    "        for i in range(0, len(bin_edge) - 1):\n",
    "            if explicand_f_val >= bin_edge[i] and  explicand_f_val < bin_edge[i+1]:\n",
    "                bin_idx = i\n",
    "                bin_avg = np.mean([bin_edge[i], bin_edge[i+1]])\n",
    "\n",
    "        prior = bin_count[bin_idx] / len(feature_values)\n",
    "        explicand_copy[:, j] = bin_avg\n",
    "\n",
    "        new_pred = model.predict_proba(explicand_copy)[0][explained_class]\n",
    "        result += new_pred * prior\n",
    "\n",
    "    return result\n",
    "\n",
    "def calculate_change_output(_explicand, train, selected_features, model, explained_class):\n",
    "    explicand_copy = copy.copy(_explicand)\n",
    "\n",
    "    for i in range(0, len(selected_features)):\n",
    "        explicand_copy[:,selected_features[i]] = np.mean(train[:, selected_features[i]]) \n",
    "\n",
    "    new_pred = model.predict_proba(explicand_copy)[0][explained_class]\n",
    "\n",
    "    return new_pred"
   ]
  },
  {
   "cell_type": "markdown",
   "metadata": {},
   "source": [
    "### LIME explanations"
   ]
  },
  {
   "cell_type": "code",
   "execution_count": 6,
   "metadata": {},
   "outputs": [],
   "source": [
    "import lime\n",
    "import lime.lime_tabular\n",
    "\n",
    "explainer = lime.lime_tabular.LimeTabularExplainer(X_train, feature_names=data.feature_names, class_names=data.target_names, verbose=False, mode='classification',discretize_continuous=False)"
   ]
  },
  {
   "cell_type": "code",
   "execution_count": 7,
   "metadata": {},
   "outputs": [],
   "source": [
    "explained_class = 1"
   ]
  },
  {
   "cell_type": "code",
   "execution_count": 8,
   "metadata": {},
   "outputs": [],
   "source": [
    "all_exp_nbayes = []\n",
    "for i in range(X_train.shape[0]):\n",
    "    exp_nbayes = explainer.explain_instance(X_train[i], nbayes.predict_proba, num_features=30, labels=(explained_class, ))\n",
    "    all_exp_nbayes.append(exp_nbayes.as_list())"
   ]
  },
  {
   "cell_type": "code",
   "execution_count": 9,
   "metadata": {},
   "outputs": [],
   "source": [
    "all_exp_nbayes_10 = []\n",
    "for i in range(X_train.shape[0]):\n",
    "    exp_nbayes_top_10 = explainer.explain_instance(X_train[i], nbayes.predict_proba, num_features=10, labels=(explained_class, ))\n",
    "    all_exp_nbayes_10.append(exp_nbayes_top_10.as_list())"
   ]
  },
  {
   "cell_type": "code",
   "execution_count": 10,
   "metadata": {},
   "outputs": [],
   "source": [
    "exp_lime_10_nbayes = []\n",
    "for i in range(len(all_exp_nbayes_10)):\n",
    "    _exp = []\n",
    "    for j in range(len(all_exp_nbayes_10[i])):\n",
    "        idx_ = np.argwhere(all_exp_nbayes_10[i][j][0] == data.feature_names)[0][0]\n",
    "        _exp.append(idx_)\n",
    "    exp_lime_10_nbayes.append(_exp)"
   ]
  },
  {
   "cell_type": "code",
   "execution_count": 11,
   "metadata": {},
   "outputs": [],
   "source": [
    "all_exp_lreg = []\n",
    "for i in range(X_train.shape[0]):\n",
    "    exp_lreg = explainer.explain_instance(X_train[i], lreg.predict_proba, num_features=30, labels=(explained_class, ))\n",
    "    all_exp_lreg.append(exp_lreg.as_list())"
   ]
  },
  {
   "cell_type": "code",
   "execution_count": 12,
   "metadata": {},
   "outputs": [],
   "source": [
    "all_exp_lreg_10 = []\n",
    "for i in range(X_train.shape[0]):\n",
    "    exp_lreg_top_10 = explainer.explain_instance(X_train[i], lreg.predict_proba, num_features=10, labels=(explained_class, ))\n",
    "    all_exp_lreg_10.append(exp_lreg_top_10.as_list())"
   ]
  },
  {
   "cell_type": "code",
   "execution_count": 15,
   "metadata": {},
   "outputs": [],
   "source": [
    "exp_lime_10_lreg = []\n",
    "for i in range(len(all_exp_lreg_10)):\n",
    "    _exp = []\n",
    "    for j in range(len(all_exp_lreg_10[i])):\n",
    "        idx_ = np.argwhere(all_exp_lreg_10[i][j][0] == data.feature_names)[0][0]\n",
    "        _exp.append(idx_)\n",
    "    exp_lime_10_lreg.append(_exp)"
   ]
  },
  {
   "cell_type": "code",
   "execution_count": 49,
   "metadata": {},
   "outputs": [],
   "source": [
    "selected_features_lime_nbayes = []\n",
    "selected_features_lime_lreg = []\n",
    "\n",
    "for i in range(len(all_exp_lreg)):\n",
    "    _exp = np.zeros(X_train.shape[1])\n",
    "    for j in range(len(all_exp_lreg[i])):\n",
    "        idx_ = np.argwhere(all_exp_lreg[i][j][0] == data.feature_names)[0][0]\n",
    "        _exp[idx_] = all_exp_lreg[i][j][1]\n",
    "    selected_features_lime_lreg.append(_exp) \n",
    "\n",
    "for i in range(len(all_exp_nbayes)):\n",
    "    _exp = np.zeros(X_train.shape[1])\n",
    "    for j in range(len(all_exp_nbayes[i])):\n",
    "        idx_ = np.argwhere(all_exp_nbayes[i][j][0] == data.feature_names)[0][0]\n",
    "        _exp[idx_] = all_exp_nbayes[i][j][1]\n",
    "    selected_features_lime_nbayes.append(_exp) "
   ]
  },
  {
   "cell_type": "code",
   "execution_count": 16,
   "metadata": {},
   "outputs": [],
   "source": [
    "test_cases = np.random.randint(0, X_train.shape[0], 10)"
   ]
  },
  {
   "cell_type": "code",
   "execution_count": 17,
   "metadata": {},
   "outputs": [],
   "source": [
    "lime_method_1_lreg = []\n",
    "lime_method_2_lreg = []\n",
    "\n",
    "for i in test_cases:\n",
    "    base_pred = lreg.predict_proba(X_train[i].reshape(1, -1))[0][explained_class]\n",
    "    \n",
    "    lime_method_2_lreg.append(base_pred - calculate_change_output(X_train[i].reshape(1, -1), X_train, exp_lime_10_lreg[i], lreg, explained_class=1))\n",
    "    lime_method_1_lreg.append(base_pred - predict_replacement(X_train[i].reshape(1, -1), X_train, exp_lime_10_lreg[i], lreg, explained_class=1))"
   ]
  },
  {
   "cell_type": "code",
   "execution_count": 18,
   "metadata": {},
   "outputs": [],
   "source": [
    "lime_method_1_nbayes = []\n",
    "lime_method_2_nbayes = []\n",
    "\n",
    "for i in test_cases:\n",
    "    base_pred = nbayes.predict_proba(X_train[i].reshape(1, -1))[0][explained_class]\n",
    "    \n",
    "    lime_method_2_nbayes.append(base_pred - calculate_change_output(X_train[i].reshape(1, -1), X_train, exp_lime_10_nbayes[i], nbayes, explained_class=1))\n",
    "    lime_method_1_nbayes.append(base_pred - predict_replacement(X_train[i].reshape(1, -1), X_train, exp_lime_10_nbayes[i], nbayes, explained_class=1))"
   ]
  },
  {
   "cell_type": "markdown",
   "metadata": {},
   "source": [
    "### KernelShap"
   ]
  },
  {
   "cell_type": "code",
   "execution_count": 21,
   "metadata": {},
   "outputs": [],
   "source": [
    "median_train = np.median(X_train, axis=0).reshape(1, -1)"
   ]
  },
  {
   "cell_type": "code",
   "execution_count": 22,
   "metadata": {},
   "outputs": [],
   "source": [
    "explained_class = 1\n",
    "lreg_lambda = lambda x: lreg.predict_proba(x)[:, explained_class]\n",
    "nbayes_lambda = lambda x: nbayes.predict_proba(x)[:, explained_class]"
   ]
  },
  {
   "cell_type": "code",
   "execution_count": 23,
   "metadata": {},
   "outputs": [],
   "source": [
    "all_exp_shap_nbayes = []\n",
    "all_exp_shap_nbayes_top_10 = []\n",
    "\n",
    "for i in range(X_train.shape[0]):\n",
    "    shap_explainer_nbayes = shap.KernelExplainer(nbayes_lambda, median_train)\n",
    "    shap_values_nbayes = shap_explainer_nbayes.shap_values(X_train[i], nsamples=1000)\n",
    "    all_exp_shap_nbayes.append(shap_values_nbayes)\n",
    "    all_exp_shap_nbayes_top_10.append(np.abs(shap_values_nbayes.flatten()).argsort()[-10:][::-1])"
   ]
  },
  {
   "cell_type": "code",
   "execution_count": 24,
   "metadata": {},
   "outputs": [],
   "source": [
    "all_exp_shap_lreg = []\n",
    "all_exp_shap_lreg_top_10 = []\n",
    "\n",
    "for i in range(X_train.shape[0]):\n",
    "    shap_explainer_lreg = shap.KernelExplainer(lreg_lambda, median_train)\n",
    "    shap_values_lreg = shap_explainer_nbayes.shap_values(X_train[i], nsamples=1000)\n",
    "    all_exp_shap_lreg.append(shap_values_lreg)\n",
    "    all_exp_shap_lreg_top_10.append(np.abs(shap_values_lreg.flatten()).argsort()[-10:][::-1])"
   ]
  },
  {
   "cell_type": "code",
   "execution_count": 25,
   "metadata": {},
   "outputs": [],
   "source": [
    "shap_method_1_lreg = []\n",
    "shap_method_2_lreg = []\n",
    "\n",
    "for i in test_cases:\n",
    "    base_pred = lreg.predict_proba(X_train[i].reshape(1, -1))[0][explained_class]\n",
    "    \n",
    "    shap_method_2_lreg.append(base_pred - calculate_change_output(X_train[i].reshape(1, -1), X_train, all_exp_shap_nbayes_top_10[i], lreg, explained_class=1))\n",
    "    shap_method_1_lreg.append(base_pred - predict_replacement(X_train[i].reshape(1, -1), X_train, all_exp_shap_nbayes_top_10[i], lreg, explained_class=1))"
   ]
  },
  {
   "cell_type": "code",
   "execution_count": 26,
   "metadata": {},
   "outputs": [],
   "source": [
    "shap_method_1_nbayes = []\n",
    "shap_method_2_nbayes = []\n",
    "\n",
    "for i in test_cases:\n",
    "    base_pred = nbayes.predict_proba(X_train[i].reshape(1, -1))[0][explained_class]\n",
    "    \n",
    "    shap_method_2_nbayes.append(base_pred - calculate_change_output(X_train[i].reshape(1, -1), X_train, all_exp_shap_nbayes_top_10[i], nbayes, explained_class=1))\n",
    "    shap_method_1_nbayes.append(base_pred - predict_replacement(X_train[i].reshape(1, -1), X_train, all_exp_shap_nbayes_top_10[i], nbayes, explained_class=1))"
   ]
  },
  {
   "cell_type": "code",
   "execution_count": 27,
   "metadata": {},
   "outputs": [
    {
     "data": {
      "image/png": "[encoded data removed]",
      "text/plain": [
       "<Figure size 1080x432 with 2 Axes>"
      ]
     },
     "metadata": {
      "needs_background": "light"
     },
     "output_type": "display_data"
    }
   ],
   "source": [
    "fig, ax = plt.subplots(1, 2, figsize=(15, 6))\n",
    "\n",
    "all_keys = test_cases\n",
    "width = 0.35 \n",
    "\n",
    "x = np.arange(len(test_cases)) \n",
    "\n",
    "rects1 = ax[0].bar(x - width/2, np.abs(lime_method_1_nbayes), width, label='LIME', color='blue')\n",
    "rects2 = ax[0].bar(x + width/2, np.abs(shap_method_1_nbayes), width, label='SHAP', color='red')\n",
    "\n",
    "\n",
    "ax[0].set_ylabel('Scores')\n",
    "ax[0].set_xlabel('Instance ID')\n",
    "ax[0].set_title('Weighted Method')\n",
    "ax[0].set_xticks(x)\n",
    "ax[0].set_xticklabels(test_cases)\n",
    "ax[0].legend()\n",
    "\n",
    "rects1 = ax[1].bar(x - width/2, np.abs(lime_method_2_nbayes), width, label='LIME', color='blue')\n",
    "rects2 = ax[1].bar(x + width/2, np.abs(shap_method_2_nbayes), width, label='SHAP', color='red')\n",
    "\n",
    "ax[1].set_xlabel('Instance ID')\n",
    "ax[1].set_ylabel('Scores')\n",
    "ax[1].set_title('Direct Method')\n",
    "ax[1].set_xticks(x)\n",
    "ax[1].set_xticklabels(test_cases)\n",
    "ax[1].legend()\n",
    "\n",
    "fig.suptitle('Naive Bayes Wisconsin Dataset')\n",
    "\n",
    "plt.show()\n"
   ]
  },
  {
   "cell_type": "code",
   "execution_count": 28,
   "metadata": {},
   "outputs": [
    {
     "data": {
      "image/png": "[encoded data removed]",
      "text/plain": [
       "<Figure size 1080x432 with 2 Axes>"
      ]
     },
     "metadata": {
      "needs_background": "light"
     },
     "output_type": "display_data"
    }
   ],
   "source": [
    "fig, ax = plt.subplots(1, 2, figsize=(15, 6))\n",
    "\n",
    "all_keys = test_cases\n",
    "width = 0.35 \n",
    "\n",
    "x = np.arange(len(test_cases)) \n",
    "\n",
    "rects1 = ax[0].bar(x - width/2, np.abs(lime_method_1_lreg), width, label='LIME', color='blue')\n",
    "rects2 = ax[0].bar(x + width/2, np.abs(shap_method_1_lreg), width, label='SHAP', color='red')\n",
    "\n",
    "\n",
    "ax[0].set_ylabel('Scores')\n",
    "ax[0].set_xlabel('Instance ID')\n",
    "ax[0].set_title('Weighted Method')\n",
    "ax[0].set_xticks(x)\n",
    "ax[0].set_xticklabels(test_cases)\n",
    "ax[0].legend()\n",
    "\n",
    "rects1 = ax[1].bar(x - width/2, np.abs(lime_method_2_lreg), width, label='LIME', color='blue')\n",
    "rects2 = ax[1].bar(x + width/2, np.abs(shap_method_2_lreg), width, label='SHAP', color='red')\n",
    "\n",
    "ax[1].set_xlabel('Instance ID')\n",
    "ax[1].set_ylabel('Scores')\n",
    "ax[1].set_title('Direct Method')\n",
    "ax[1].set_xticks(x)\n",
    "ax[1].set_xticklabels(test_cases)\n",
    "ax[1].legend()\n",
    "\n",
    "fig.suptitle('Logistic Regression Wisconsin Dataset')\n",
    "\n",
    "plt.show()\n"
   ]
  },
  {
   "cell_type": "code",
   "execution_count": 51,
   "metadata": {},
   "outputs": [],
   "source": [
    "cosine_similarities_nbayes = []\n",
    "cosine_similarities_lreg = []\n",
    "\n",
    "from  sklearn.metrics.pairwise import kernel_metrics\n",
    "\n",
    "\n",
    "for i in range(X_train.shape[0]):\n",
    "    cosine_similarities_nbayes.append(kernel_metrics((np.array(selected_features_lime_nbayes[i]).reshape(1, -1), np.array(all_exp_shap_nbayes[i]).reshape(1, -1))[0][0])\n",
    "    cosine_similarities_lreg.append(kernel_metrics(np.array(selected_features_lime_lreg[i]).reshape(1, -1), np.array(all_exp_shap_lreg[i]).reshape(1, -1))[0][0])"
   ]
  },
  {
   "cell_type": "code",
   "execution_count": 52,
   "metadata": {},
   "outputs": [
    {
     "data": {
      "image/png": "[encoded data removed]",
      "text/plain": [
       "<Figure size 792x432 with 1 Axes>"
      ]
     },
     "metadata": {
      "needs_background": "light"
     },
     "output_type": "display_data"
    }
   ],
   "source": [
    "fig, ax = plt.subplots(1, 1, figsize=(11, 6))\n",
    "\n",
    "ax.hist(cosine_similarities_nbayes, label='Naive Bayes')\n",
    "ax.hist(cosine_similarities_lreg, label='Logistic Regression')\n",
    "ax.legend()\n",
    "\n",
    "plt.show()"
   ]
  },
  {
   "cell_type": "markdown",
   "metadata": {},
   "source": [
    "### Instace Explanations"
   ]
  },
  {
   "cell_type": "code",
   "execution_count": 56,
   "metadata": {},
   "outputs": [
    {
     "data": {
      "text/plain": [
       "array([[0.01760678]])"
      ]
     },
     "execution_count": 56,
     "metadata": {},
     "output_type": "execute_result"
    }
   ],
   "source": [
    "from sklearn.metrics.pairwise import cosine_similarity\n",
    "\n",
    "cosine_similarity(np.mean(all_exp_shap_lreg, axis=0).reshape(1, -1), lreg.coef_.reshape(1, -1))"
   ]
  },
  {
   "cell_type": "code",
   "execution_count": 57,
   "metadata": {},
   "outputs": [
    {
     "data": {
      "text/plain": [
       "array([[0.4418421]])"
      ]
     },
     "execution_count": 57,
     "metadata": {},
     "output_type": "execute_result"
    }
   ],
   "source": [
    "cosine_similarity(np.mean(selected_features_lime_lreg, axis=0).reshape(1, -1), lreg.coef_.reshape(1, -1))"
   ]
  },
  {
   "cell_type": "code",
   "execution_count": 40,
   "metadata": {},
   "outputs": [],
   "source": [
    "import warnings\n",
    "from lime import submodular_pick\n",
    "sp_obj = submodular_pick.SubmodularPick(explainer, X_train, nbayes.predict_proba, sample_size=10, num_features=30, num_exps_desired=5)"
   ]
  },
  {
   "cell_type": "code",
   "execution_count": 41,
   "metadata": {},
   "outputs": [],
   "source": [
    "import pandas as pd\n",
    "W=pd.DataFrame([dict(this.as_list()) for this in sp_obj.explanations])\n"
   ]
  },
  {
   "cell_type": "code",
   "execution_count": 93,
   "metadata": {},
   "outputs": [],
   "source": [
    "from sklearn.metrics.pairwise import cosine_distances\n",
    "\n",
    "def cosine(x, y):\n",
    "    return cosine_distances(x.reshape(1, -1), y.reshape(1, -1))"
   ]
  },
  {
   "cell_type": "code",
   "execution_count": 94,
   "metadata": {},
   "outputs": [],
   "source": [
    "from sklearn.neighbors import NearestNeighbors"
   ]
  },
  {
   "cell_type": "code",
   "execution_count": 95,
   "metadata": {},
   "outputs": [],
   "source": [
    "nbrs = NearestNeighbors(n_neighbors=5, algorithm='ball_tree', metric=cosine).fit(X_train)"
   ]
  },
  {
   "cell_type": "code",
   "execution_count": 98,
   "metadata": {},
   "outputs": [
    {
     "data": {
      "text/plain": [
       "(array([[1.11022302e-16, 3.17627353e-05, 1.05449772e-04, 1.72796853e-04,\n",
       "         1.74467276e-04]]), array([[ 13, 408, 216, 291, 232]]))"
      ]
     },
     "execution_count": 98,
     "metadata": {},
     "output_type": "execute_result"
    }
   ],
   "source": [
    "nbrs.kneighbors(X_train[i].reshape(1, -1))"
   ]
  },
  {
   "cell_type": "code",
   "execution_count": null,
   "metadata": {},
   "outputs": [],
   "source": []
  }
 ],
 "metadata": {
  "kernelspec": {
   "display_name": "Python (DL)",
   "language": "python",
   "name": "dl"
  },
  "language_info": {
   "codemirror_mode": {
    "name": "ipython",
    "version": 3
   },
   "file_extension": ".py",
   "mimetype": "text/x-python",
   "name": "python",
   "nbconvert_exporter": "python",
   "pygments_lexer": "ipython3",
   "version": "3.6.8"
  }
 },
 "nbformat": 4,
 "nbformat_minor": 4
}
